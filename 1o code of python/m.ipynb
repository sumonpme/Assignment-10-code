{
 "cells": [
  {
   "cell_type": "code",
   "execution_count": 6,
   "metadata": {},
   "outputs": [
    {
     "ename": "IndexError",
     "evalue": "list index out of range",
     "output_type": "error",
     "traceback": [
      "\u001b[0;31m---------------------------------------------------------------------------\u001b[0m",
      "\u001b[0;31mIndexError\u001b[0m                                Traceback (most recent call last)",
      "Cell \u001b[0;32mIn[6], line 4\u001b[0m\n\u001b[1;32m      2\u001b[0m My_list \u001b[38;5;241m=\u001b[39m [[\u001b[38;5;241m10\u001b[39m,\u001b[38;5;241m20\u001b[39m,\u001b[38;5;241m30\u001b[39m], [\u001b[38;5;241m40\u001b[39m,\u001b[38;5;241m50\u001b[39m], [\u001b[38;5;241m60\u001b[39m,\u001b[38;5;241m70\u001b[39m], [\u001b[38;5;241m80\u001b[39m,\u001b[38;5;241m90\u001b[39m]]\n\u001b[1;32m      3\u001b[0m \u001b[38;5;66;03m# Accessing a nested element\u001b[39;00m\n\u001b[0;32m----> 4\u001b[0m nested_element\u001b[38;5;241m=\u001b[39m\u001b[43mMy_list\u001b[49m\u001b[43m[\u001b[49m\u001b[38;5;241;43m2\u001b[39;49m\u001b[43m]\u001b[49m\u001b[43m[\u001b[49m\u001b[38;5;241;43m3\u001b[39;49m\u001b[43m]\u001b[49m\n\u001b[1;32m      5\u001b[0m \u001b[38;5;66;03m#Modifying a nested element\u001b[39;00m\n\u001b[1;32m      6\u001b[0m My_list[\u001b[38;5;241m1\u001b[39m][\u001b[38;5;241m1\u001b[39m]\u001b[38;5;241m=\u001b[39m\u001b[38;5;241m200\u001b[39m\n",
      "\u001b[0;31mIndexError\u001b[0m: list index out of range"
     ]
    }
   ],
   "source": [
    "# Example 1: Nested lists operations\n",
    "My_list = [[10,20,30], [40,50], [60,70], [80,90]]\n",
    "# Accessing a nested element\n",
    "nested_element=My_list[3][1]\n",
    "#Modifying a nested element\n",
    "My_list[1][1]=200\n",
    "#flattening a nested list\n",
    "flattened_list = [item for sublist in My_list for item in sublist]\n",
    "print(\"Nested_Element:\", nested_element)\n",
    "print(\"Modified Nested List:\" , My_list)\n",
    "print(\"Flattened List:\" , flattened_list)"
   ]
  }
 ],
 "metadata": {
  "kernelspec": {
   "display_name": "Python 3",
   "language": "python",
   "name": "python3"
  },
  "language_info": {
   "codemirror_mode": {
    "name": "ipython",
    "version": 3
   },
   "file_extension": ".py",
   "mimetype": "text/x-python",
   "name": "python",
   "nbconvert_exporter": "python",
   "pygments_lexer": "ipython3",
   "version": "3.12.1"
  }
 },
 "nbformat": 4,
 "nbformat_minor": 2
}
